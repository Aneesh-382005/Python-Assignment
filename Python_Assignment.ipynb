{
  "nbformat": 4,
  "nbformat_minor": 0,
  "metadata": {
    "colab": {
      "provenance": [],
      "authorship_tag": "ABX9TyO97wNYnCeaWjp8H1jY3vxd",
      "include_colab_link": true
    },
    "kernelspec": {
      "name": "python3",
      "display_name": "Python 3"
    },
    "language_info": {
      "name": "python"
    }
  },
  "cells": [
    {
      "cell_type": "markdown",
      "metadata": {
        "id": "view-in-github",
        "colab_type": "text"
      },
      "source": [
        "<a href=\"https://colab.research.google.com/github/NoobCoder6969/Python-Assignment/blob/main/Python_Assignment.ipynb\" target=\"_parent\"><img src=\"https://colab.research.google.com/assets/colab-badge.svg\" alt=\"Open In Colab\"/></a>"
      ]
    },
    {
      "cell_type": "markdown",
      "source": [
        "## Q1. L is a list defined as L= [11, 12, 13, 14].\n",
        "1. WAP to add 50 and 60 to L.\n",
        "2. WAP to remove 11 and 13 from L.\n",
        "3. WAP to sort L in ascending order.\n",
        "4. WAP to sort L in descending order.\n",
        "5. WAP to search for 13 in L.\n",
        "6. WAP to count the number of elements present in L.\n",
        "7. WAP to sum all the elements in L.\n",
        "8. WAP to sum all ODD numbers in L.\n",
        "9. WAP to sum all EVEN numbers in L.\n",
        "10. WAP to sum all PRIME numbers in L.\n",
        "11. WAP to clear all the elements in L.\n",
        "12. WAP to delete L.\n"
      ],
      "metadata": {
        "id": "HQ4WSnUEqlwz"
      }
    },
    {
      "cell_type": "code",
      "source": [
        "L = [11, 12, 13, 14]\n",
        "\n",
        "L.append(50)\n",
        "L.append(60)\n",
        "print(\"After adding 50 & 60 --> \", L)\n",
        "\n",
        "L = [11, 12, 13, 14]\n",
        "\n",
        "L.remove(11)\n",
        "L.remove(13)\n",
        "print(\"After removing 11 and 13 \",L)\n",
        "\n",
        "L = [11, 12, 13, 14]\n",
        "\n",
        "L.sort()\n",
        "print(\"After sorting L in ascending order --> \", L)\n",
        "\n",
        "L = [11, 12, 13, 14]\n",
        "\n",
        "L.sort(reverse = True)\n",
        "print(\"After sorting L in descending order --> \", L)\n",
        "\n",
        "L = [11, 12, 13, 14]\n",
        "\n",
        "for i in L:\n",
        "  if i == 13:\n",
        "    print(\"13 is present at index : \", L.index(13))\n",
        "    break\n",
        "else:\n",
        "  print(\"13 is not present\")\n",
        "\n",
        "L = [11, 12, 13, 14]\n",
        "\n",
        "a=0\n",
        "for i in range (len(L)):\n",
        "  a=a+1\n",
        "print(\"The Number of elements present in L : \",i+1)\n",
        "\n",
        "L = [11, 12, 13, 14]\n",
        "\n",
        "sum = 0\n",
        "for i in L:\n",
        "  sum = sum + i\n",
        "print(\"Sum of elements --> \", sum)\n",
        "\n",
        "L = [11, 12, 13, 14]\n",
        "\n",
        "sumOdd = 0\n",
        "for i in L:\n",
        "  if i%2!=0:\n",
        "    sumOdd = sumOdd + i\n",
        "print(\"Sum of odd numbers in L : \", sumOdd)\n",
        "\n",
        "L = [11, 12, 13, 14]\n",
        "\n",
        "sumEven = 0\n",
        "for i in L:\n",
        "  if i%2==0:\n",
        "    sumEven = sumEven + i\n",
        "print(\"Sum of even numbers in L : \", sumEven)\n",
        "\n",
        "L = [11, 12, 13, 14]\n",
        "\n",
        "sumPrime = 0\n",
        "for i in L:\n",
        "  count = 0\n",
        "  for j in range(2,(i//2)+1):\n",
        "    if i%j==0:\n",
        "      count = count + 1\n",
        "      break\n",
        "  if count==0 and i!=1:\n",
        "    sumPrime = sumPrime + i\n",
        "print(\"Sum of Prime Numbers : \", sumPrime)\n",
        "\n",
        "L = [11, 12, 13, 14]\n",
        "\n",
        "L.clear()\n",
        "print(\"After clearing L --> \", L)\n",
        "\n",
        "L = [11, 12, 13, 14]\n",
        "del L\n",
        "try:\n",
        "  print(L)\n",
        "except:\n",
        "  print(\"L is deleted\")"
      ],
      "metadata": {
        "colab": {
          "base_uri": "https://localhost:8080/"
        },
        "id": "P-OLVYRerBPj",
        "outputId": "634c3fff-8fb9-4df7-c7e8-9f34a46ffdbb"
      },
      "execution_count": null,
      "outputs": [
        {
          "output_type": "stream",
          "name": "stdout",
          "text": [
            "After adding 50 & 60 -->  [11, 12, 13, 14, 50, 60]\n",
            "After removing 11 and 13  [12, 14]\n",
            "After sorting L in ascending order -->  [11, 12, 13, 14]\n",
            "After sorting L in descending order-->  [14, 13, 12, 11]\n",
            "13 is present at index :  2\n",
            "The Number of elements present in L :  4\n",
            "Sum of elements -->  50\n",
            "Sum of odd numbers in L :  24\n",
            "Sum of even numbers in L :  26\n",
            "Sum of Prime Numbers :  24\n",
            "After clearing L -->  []\n",
            "L is deleted\n"
          ]
        }
      ]
    },
    {
      "cell_type": "markdown",
      "source": [
        "##Q2. D is a dictionary defined as D= {1:5.6, 2:7.8, 3:6.6, 4:8.7, 5:7.7}.\n",
        "1. WAP to add new entry in D; key=8 and value is 8.8\n",
        "2. WAP to remove key=2.\n",
        "3. WAP to check whether 6 key is present in D.\n",
        "4. WAP to count the number of elements present in D.\n",
        "5. WAP to add all the values present D.\n",
        "6. WAP to update the value of 3 to 7.1.\n",
        "7. WAP to clear the dictionary."
      ],
      "metadata": {
        "id": "MpXMMQsJfrhH"
      }
    },
    {
      "cell_type": "code",
      "source": [
        "D= {1:5.6, 2:7.8, 3:6.6, 4:8.7, 5:7.7}\n",
        "\n",
        "D[8] = 8.8\n",
        "print(\"After adding new entry --> \", D)\n",
        "\n",
        "D= {1:5.6, 2:7.8, 3:6.6, 4:8.7, 5:7.7}\n",
        "\n",
        "del D[2]\n",
        "print(\"After removing key 2 --> \", D)\n",
        "\n",
        "D= {1:5.6, 2:7.8, 3:6.6, 4:8.7, 5:7.7}\n",
        "\n",
        "for i in D:\n",
        "  if i == 6:\n",
        "    print(\"6 is Present\")\n",
        "else:\n",
        "  print(\"6 is not Present\")\n",
        "\n",
        "D= {1:5.6, 2:7.8, 3:6.6, 4:8.7, 5:7.7}\n",
        "\n",
        "print(\"Number of elements in D : \", len(D))\n",
        "\n",
        "D= {1:5.6, 2:7.8, 3:6.6, 4:8.7, 5:7.7}\n",
        "\n",
        "sum = 0\n",
        "for i in D:\n",
        "  sum = sum + D[i]\n",
        "print(\"Sum of elements : \", sum)\n",
        "\n",
        "D[3] = 7.1\n",
        "print(\"After Updating the Dictionary --> \", D)\n",
        "\n",
        "D.clear()\n",
        "print(\"After Clearing the Dictionary --> \", D)"
      ],
      "metadata": {
        "colab": {
          "base_uri": "https://localhost:8080/"
        },
        "id": "wnO3S6UbgfcE",
        "outputId": "e387a092-1e9e-4296-f176-7a8dfdb2d298"
      },
      "execution_count": null,
      "outputs": [
        {
          "output_type": "stream",
          "name": "stdout",
          "text": [
            "After adding new entry -->  {1: 5.6, 2: 7.8, 3: 6.6, 4: 8.7, 5: 7.7, 8: 8.8}\n",
            "After removing key 2 -->  {1: 5.6, 3: 6.6, 4: 8.7, 5: 7.7}\n",
            "6 is not Present\n",
            "Number of elements in D :  5\n",
            "Sum of elements :  36.4\n",
            "After Updating the Dictionary -->  {1: 5.6, 2: 7.8, 3: 7.1, 4: 8.7, 5: 7.7}\n",
            "After Clearing the Dictionary -->  {}\n"
          ]
        }
      ]
    },
    {
      "cell_type": "markdown",
      "source": [
        "###Q3. S1 is a set defined as S1= [10, 20, 30, 40, 50, 60].\n",
        "###S2 is a set defined as S2= [40, 50, 60, 70, 80, 90].\n",
        "1. WAP to add 55 and 66 in Set S1.\n",
        "2. WAP to remove 10 and 30 from Set S1.\n",
        "3. WAP to check whether 40 is present in S1.\n",
        "4. WAP to find the union between S1 and S2.\n",
        "5. WAP to find the intersection between S1 and S2.\n",
        "6. WAP to find the S1 - S2."
      ],
      "metadata": {
        "id": "vmvl8kf1qsiY"
      }
    },
    {
      "cell_type": "code",
      "source": [
        "S1= set([10, 20, 30, 40, 50, 60])\n",
        "S2= set([40, 50, 60, 70, 80, 90])\n",
        "\n",
        "S1.add(55)\n",
        "S1.add(66)\n",
        "print(\"After adding 55 and 66 --> \", S1)\n",
        "\n",
        "S1.remove(10)\n",
        "S1.remove(30)\n",
        "print(\"After removing 10 and 30 --> \", S1)\n",
        "\n",
        "for i in S1:\n",
        "  if i == 40:\n",
        "    print(\"40 is present\")\n",
        "    break\n",
        "else:\n",
        "  print(\"40 is not present\")\n",
        "\n",
        "print(\"Union of S1 and S2 --> \", S1.union(S2))\n",
        "\n",
        "print(\"Intersection between S1 and S2 --> \", S1.intersection(S2))\n",
        "\n",
        "print(\"S1 - S2 --> \", S1-S2)"
      ],
      "metadata": {
        "colab": {
          "base_uri": "https://localhost:8080/"
        },
        "id": "igX0v8gcrnun",
        "outputId": "aef4d1d9-d91a-4e1c-cb2f-08fbd851110e"
      },
      "execution_count": null,
      "outputs": [
        {
          "output_type": "stream",
          "name": "stdout",
          "text": [
            "After adding 55 and 66 -->  {66, 40, 10, 50, 20, 55, 60, 30}\n",
            "After removing 10 and 30 -->  {66, 40, 50, 20, 55, 60}\n",
            "40 is present\n",
            "Union of S1 and S2 -->  {66, 70, 40, 80, 50, 20, 55, 90, 60}\n",
            "Intersection between S1 and S2 -->  {40, 50, 60}\n",
            "S1 - S2 -->  {66, 20, 55}\n"
          ]
        }
      ]
    },
    {
      "cell_type": "markdown",
      "source": [
        "##Q4. Write the following programs.\n",
        "1. WAP to print 100 random strings whose length between 6 and 8.\n",
        "2. WAP to print all prime numbers between 600 and 800.\n",
        "3. WAP to print all numbers between 100 and 1000 that are divisible by 7 and 9."
      ],
      "metadata": {
        "id": "PGRta9SGv6z2"
      }
    },
    {
      "cell_type": "code",
      "source": [
        "import random\n",
        "import string\n",
        "\n",
        "for i in range (100):\n",
        "  k = random.randint(6,8)\n",
        "  for j in range (k):\n",
        "    randomString = random.choice(string.ascii_letters)\n",
        "    print(randomString, end = \"\")\n",
        "  print()\n",
        "\n",
        "print(\"--------------------\")\n",
        "\n",
        "for i in range (600, 800+1):\n",
        "  count = 0\n",
        "  for j in range(2, i//2+1):\n",
        "    if i%j == 0:\n",
        "      count = count + 1\n",
        "      break\n",
        "  if count == 0:\n",
        "    print(i)\n",
        "\n",
        "print(\"--------------------\")\n",
        "\n",
        "for i in range (100, 1000+1):\n",
        "  if i%7 == 0 or i%9 == 0:\n",
        "    print(i)"
      ],
      "metadata": {
        "colab": {
          "base_uri": "https://localhost:8080/"
        },
        "id": "W2-UYNto0cPF",
        "outputId": "d4c4d184-f527-4a78-a186-1164984bd98e"
      },
      "execution_count": null,
      "outputs": [
        {
          "output_type": "stream",
          "name": "stdout",
          "text": [
            "uzaPob\n",
            "UWiidEwW\n",
            "exafdD\n",
            "hDKeIRHg\n",
            "PRUBENRc\n",
            "ZZFzOGEG\n",
            "vcvaDdQP\n",
            "oVRJqUS\n",
            "RVAOnAsh\n",
            "vFSvjoUF\n",
            "tZDzIbQ\n",
            "EHbXya\n",
            "cLpXmyc\n",
            "Mtkmjfj\n",
            "igUEqvu\n",
            "oSUgPLg\n",
            "efBaINJt\n",
            "KudQgC\n",
            "rGoRSKh\n",
            "XbcDacKJ\n",
            "plHmcbPp\n",
            "cIwteF\n",
            "ZeifrSV\n",
            "dGvrSzR\n",
            "laOihQ\n",
            "PhrsKUdh\n",
            "HUSbKAFw\n",
            "QQksDuu\n",
            "CbtwOx\n",
            "tIbIKEM\n",
            "ZXCkIlqE\n",
            "wGtYwXeL\n",
            "ADsafGxm\n",
            "cqQxnZD\n",
            "uEoNFiFW\n",
            "FRdkQh\n",
            "hSilDthb\n",
            "KFtaiY\n",
            "VPHVMO\n",
            "ZDMUcnv\n",
            "AUGQqD\n",
            "SyfjljJK\n",
            "uVDoagpN\n",
            "DslucSV\n",
            "ZANwKu\n",
            "tBWWhk\n",
            "BxDHKToY\n",
            "erecawn\n",
            "IQAbhO\n",
            "OBBgwe\n",
            "opfUULKi\n",
            "zvwrKs\n",
            "XhQeles\n",
            "CkavKXD\n",
            "gyjeoUO\n",
            "hQUMWdZ\n",
            "eqUFdbd\n",
            "FULFblI\n",
            "iHtTDzr\n",
            "FwtYVc\n",
            "lwIiylC\n",
            "HyNyiif\n",
            "phhFcBMc\n",
            "BNckUZ\n",
            "ytDUKWLb\n",
            "EPGmxm\n",
            "zCRgml\n",
            "OOwsAmh\n",
            "fOIiXCqA\n",
            "yEGhso\n",
            "EIgbUJr\n",
            "PWZBLeFj\n",
            "uyHuqB\n",
            "JxYclPb\n",
            "oHmuNNe\n",
            "oheqeQuT\n",
            "QVPbIX\n",
            "tQlFWW\n",
            "Vhygsh\n",
            "nGAVSfA\n",
            "XjaZCMW\n",
            "rPNDIWh\n",
            "QKvokvpN\n",
            "BXRRGgc\n",
            "vOTkJr\n",
            "PHcmttJY\n",
            "jEGDDE\n",
            "QMSogfB\n",
            "eusnNGfj\n",
            "NwNJXh\n",
            "zDVxhQ\n",
            "OIAjTK\n",
            "TBGEnOsY\n",
            "uZnDedk\n",
            "nlBOdkaw\n",
            "kujhSlmy\n",
            "XoHZqA\n",
            "DGtcJeK\n",
            "nEYAkfL\n",
            "BjyKAb\n",
            "--------------------\n",
            "601\n",
            "607\n",
            "613\n",
            "617\n",
            "619\n",
            "631\n",
            "641\n",
            "643\n",
            "647\n",
            "653\n",
            "659\n",
            "661\n",
            "673\n",
            "677\n",
            "683\n",
            "691\n",
            "701\n",
            "709\n",
            "719\n",
            "727\n",
            "733\n",
            "739\n",
            "743\n",
            "751\n",
            "757\n",
            "761\n",
            "769\n",
            "773\n",
            "787\n",
            "797\n",
            "--------------------\n",
            "105\n",
            "108\n",
            "112\n",
            "117\n",
            "119\n",
            "126\n",
            "133\n",
            "135\n",
            "140\n",
            "144\n",
            "147\n",
            "153\n",
            "154\n",
            "161\n",
            "162\n",
            "168\n",
            "171\n",
            "175\n",
            "180\n",
            "182\n",
            "189\n",
            "196\n",
            "198\n",
            "203\n",
            "207\n",
            "210\n",
            "216\n",
            "217\n",
            "224\n",
            "225\n",
            "231\n",
            "234\n",
            "238\n",
            "243\n",
            "245\n",
            "252\n",
            "259\n",
            "261\n",
            "266\n",
            "270\n",
            "273\n",
            "279\n",
            "280\n",
            "287\n",
            "288\n",
            "294\n",
            "297\n",
            "301\n",
            "306\n",
            "308\n",
            "315\n",
            "322\n",
            "324\n",
            "329\n",
            "333\n",
            "336\n",
            "342\n",
            "343\n",
            "350\n",
            "351\n",
            "357\n",
            "360\n",
            "364\n",
            "369\n",
            "371\n",
            "378\n",
            "385\n",
            "387\n",
            "392\n",
            "396\n",
            "399\n",
            "405\n",
            "406\n",
            "413\n",
            "414\n",
            "420\n",
            "423\n",
            "427\n",
            "432\n",
            "434\n",
            "441\n",
            "448\n",
            "450\n",
            "455\n",
            "459\n",
            "462\n",
            "468\n",
            "469\n",
            "476\n",
            "477\n",
            "483\n",
            "486\n",
            "490\n",
            "495\n",
            "497\n",
            "504\n",
            "511\n",
            "513\n",
            "518\n",
            "522\n",
            "525\n",
            "531\n",
            "532\n",
            "539\n",
            "540\n",
            "546\n",
            "549\n",
            "553\n",
            "558\n",
            "560\n",
            "567\n",
            "574\n",
            "576\n",
            "581\n",
            "585\n",
            "588\n",
            "594\n",
            "595\n",
            "602\n",
            "603\n",
            "609\n",
            "612\n",
            "616\n",
            "621\n",
            "623\n",
            "630\n",
            "637\n",
            "639\n",
            "644\n",
            "648\n",
            "651\n",
            "657\n",
            "658\n",
            "665\n",
            "666\n",
            "672\n",
            "675\n",
            "679\n",
            "684\n",
            "686\n",
            "693\n",
            "700\n",
            "702\n",
            "707\n",
            "711\n",
            "714\n",
            "720\n",
            "721\n",
            "728\n",
            "729\n",
            "735\n",
            "738\n",
            "742\n",
            "747\n",
            "749\n",
            "756\n",
            "763\n",
            "765\n",
            "770\n",
            "774\n",
            "777\n",
            "783\n",
            "784\n",
            "791\n",
            "792\n",
            "798\n",
            "801\n",
            "805\n",
            "810\n",
            "812\n",
            "819\n",
            "826\n",
            "828\n",
            "833\n",
            "837\n",
            "840\n",
            "846\n",
            "847\n",
            "854\n",
            "855\n",
            "861\n",
            "864\n",
            "868\n",
            "873\n",
            "875\n",
            "882\n",
            "889\n",
            "891\n",
            "896\n",
            "900\n",
            "903\n",
            "909\n",
            "910\n",
            "917\n",
            "918\n",
            "924\n",
            "927\n",
            "931\n",
            "936\n",
            "938\n",
            "945\n",
            "952\n",
            "954\n",
            "959\n",
            "963\n",
            "966\n",
            "972\n",
            "973\n",
            "980\n",
            "981\n",
            "987\n",
            "990\n",
            "994\n",
            "999\n"
          ]
        }
      ]
    },
    {
      "cell_type": "markdown",
      "source": [
        "###Q5. WAP to create two lists of 10 random numbers between 10 and 30; Find  \n",
        "1. Common numbers in the two lists\n",
        "2. Unique numbers in both the list\n",
        "3. Minimum in both the list\n",
        "4. Maximum in both the list\n",
        "5. Sum of both the lists\n"
      ],
      "metadata": {
        "id": "HttFKvH8-bDz"
      }
    },
    {
      "cell_type": "code",
      "source": [
        "import random\n",
        "\n",
        "List1 = []\n",
        "List2 = []\n",
        "\n",
        "for i in range (10):\n",
        "  List1.append(random.randint(10, 30))\n",
        "  List2.append(random.randint(10, 30))\n",
        "\n",
        "print(\"List 1 --> \", List1)\n",
        "print(\"List 2 --> \", List2)\n",
        "\n",
        "common = []\n",
        "for i in List1:\n",
        "  for j in List2:\n",
        "    if i == j:\n",
        "      common.append(i)\n",
        "\n",
        "print(\"Common Elements --> \", common)\n",
        "\n",
        "Unique1 = []\n",
        "for i in List1:\n",
        "  if i not in List2:\n",
        "    Unique1.append(i)\n",
        "\n",
        "Unique2 = []\n",
        "for i in List2:\n",
        "  if i not in List1:\n",
        "    Unique2.append(i)\n",
        "\n",
        "Unique = Unique1 + Unique2\n",
        "print(\"Unique Elements --> \", Unique)\n",
        "\n",
        "print(\"Minimum in List1 : \", min(List1))\n",
        "print(\"Minimum in List2 : \", min(List2))\n",
        "\n",
        "print(\"Maximum in List1 : \", max(List1))\n",
        "print(\"Maximum in List2 : \", max(List2))\n",
        "\n",
        "print(\"Sum of List1 : \", sum(List1))\n",
        "print(\"Sum of List2 : \", sum(List2))\n"
      ],
      "metadata": {
        "id": "Bb82gal9-y4b",
        "colab": {
          "base_uri": "https://localhost:8080/"
        },
        "outputId": "de3c619b-f826-4e6c-cbb9-13a08359dea6"
      },
      "execution_count": 18,
      "outputs": [
        {
          "output_type": "stream",
          "name": "stdout",
          "text": [
            "List 1 -->  [10, 23, 18, 20, 29, 10, 23, 26, 20, 24]\n",
            "List 2 -->  [27, 26, 25, 29, 23, 11, 29, 22, 27, 29]\n",
            "Common Elements -->  [23, 29, 29, 29, 23, 26]\n",
            "Unique Elements -->  [10, 18, 20, 10, 20, 24, 27, 25, 11, 22, 27]\n",
            "Minimum in List1 :  10\n",
            "Minimum in List2 :  11\n",
            "Maximum in List1 :  29\n",
            "Maximum in List2 :  29\n",
            "Sum of List1 :  203\n",
            "Sum of List2 :  248\n"
          ]
        }
      ]
    },
    {
      "cell_type": "markdown",
      "source": [
        "\n",
        "## Q6. WAP to create a list of 100 random numbers between 100 and 900. Count and print the:  \n",
        "1. All odd numbers\n",
        "2. All even numbers\n",
        "3. All prime numbers"
      ],
      "metadata": {
        "id": "I7dB23be_5Cg"
      }
    },
    {
      "cell_type": "code",
      "source": [
        "import random as r\n",
        "List = []\n",
        "for i in range (100):\n",
        "  List.append(r.randint(100, 900))\n",
        "\n",
        "print(\"List --> \", List)\n",
        "\n",
        "Odd = []\n",
        "Even = []\n",
        "Prime = []\n",
        "for i in List:\n",
        "  if i%2 == 0:\n",
        "    Even.append(i)\n",
        "  else:\n",
        "    Odd.append(i)\n",
        "\n",
        "  count = 0\n",
        "  for j in range(2, i//2 + 1):\n",
        "    if i%j == 0:\n",
        "      count = count + 1\n",
        "      break\n",
        "  if count == 0:\n",
        "    Prime.append(i)\n",
        "\n",
        "print(\"Odd Numbers --> \", Odd)\n",
        "print(\"Even Numbers --> \", Even)\n",
        "print(\"Prime Numbers --> \", Prime)\n"
      ],
      "metadata": {
        "colab": {
          "base_uri": "https://localhost:8080/"
        },
        "id": "s7qjkh3a-135",
        "outputId": "d6c9c6f3-d246-4b2d-e81c-540a1d739bab"
      },
      "execution_count": 9,
      "outputs": [
        {
          "output_type": "stream",
          "name": "stdout",
          "text": [
            "List -->  [345, 837, 510, 476, 193, 334, 457, 557, 164, 354, 855, 787, 469, 738, 140, 556, 582, 862, 714, 135, 677, 875, 252, 404, 319, 123, 146, 626, 223, 470, 730, 627, 320, 757, 101, 620, 114, 889, 211, 217, 376, 530, 879, 648, 482, 420, 169, 434, 256, 894, 504, 202, 240, 663, 241, 822, 507, 260, 788, 497, 732, 451, 177, 880, 393, 683, 839, 462, 371, 877, 406, 701, 745, 499, 425, 262, 241, 248, 416, 754, 606, 851, 166, 166, 391, 190, 342, 451, 297, 876, 447, 333, 739, 371, 566, 232, 129, 788, 350, 872]\n",
            "Odd Numbers -->  [345, 837, 193, 457, 557, 855, 787, 469, 135, 677, 875, 319, 123, 223, 627, 757, 101, 889, 211, 217, 879, 169, 663, 241, 507, 497, 451, 177, 393, 683, 839, 371, 877, 701, 745, 499, 425, 241, 851, 391, 451, 297, 447, 333, 739, 371, 129]\n",
            "Even Numbers -->  [510, 476, 334, 164, 354, 738, 140, 556, 582, 862, 714, 252, 404, 146, 626, 470, 730, 320, 620, 114, 376, 530, 648, 482, 420, 434, 256, 894, 504, 202, 240, 822, 260, 788, 732, 880, 462, 406, 262, 248, 416, 754, 606, 166, 166, 190, 342, 876, 566, 232, 788, 350, 872]\n",
            "Prime Numbers -->  [193, 457, 557, 787, 677, 223, 757, 101, 211, 241, 683, 839, 877, 701, 499, 241, 739]\n"
          ]
        }
      ]
    },
    {
      "cell_type": "markdown",
      "source": [
        "##Q7. D is a dictionary defined as D={1:\"One\",2:\"Two\",3:\"Three\",4:\"Four\", 5:\"Five\"}.  \n",
        "WAP to read all the keys and values from dictionary and write to the file in the given below format.\n",
        "\n",
        "Key1, Value1\n",
        "\n",
        "Key2, Value2\n",
        "\n",
        "Key3, Value3"
      ],
      "metadata": {
        "id": "003fR9FTDux4"
      }
    },
    {
      "cell_type": "code",
      "source": [
        "D={1:\"One\",2:\"Two\",3:\"Three\",4:\"Four\", 5:\"Five\"}\n",
        "\n",
        "file = open(\"Dictionary.txt\", \"w\")\n",
        "for i in D:\n",
        "  string = \"%d, %s \\n\" %(i, D[i])\n",
        "  file.write(string)\n",
        "\n",
        "\n",
        "file.close()"
      ],
      "metadata": {
        "id": "5bAe2B2wD67-"
      },
      "execution_count": 19,
      "outputs": []
    },
    {
      "cell_type": "markdown",
      "source": [
        "##Q8. L is a list defined as L={\"One\",\"Two\",\"Three\",\"Four\",\"Five\"}.\n",
        "WAP to count the length of reach element from a list and write to the file in the given below format:\n",
        "\n",
        "One, 3\n",
        "\n",
        "Two, 3\n",
        "\n",
        "Four, 4"
      ],
      "metadata": {
        "id": "DtYeBAIXNuj4"
      }
    },
    {
      "cell_type": "code",
      "source": [
        "L={\"One\",\"Two\",\"Three\",\"Four\",\"Five\"}\n",
        "\n",
        "file = open(\"List.txt\", \"w\")\n",
        "for i in L:\n",
        "  string  = \"%s, %d \\n\" %(i, len(i))\n",
        "  file.write(string)\n",
        "\n",
        "file.close()"
      ],
      "metadata": {
        "colab": {
          "base_uri": "https://localhost:8080/"
        },
        "id": "mWPIM6x6N0k_",
        "outputId": "9663701f-c1fe-4099-c58e-8cadbdbf948e"
      },
      "execution_count": 4,
      "outputs": [
        {
          "output_type": "stream",
          "name": "stdout",
          "text": [
            "Operation completed\n"
          ]
        }
      ]
    },
    {
      "cell_type": "markdown",
      "source": [
        "##Q9. Write to the file 100 random strings whose length between 10 and 15."
      ],
      "metadata": {
        "id": "ZuDpFBiLO6AJ"
      }
    },
    {
      "cell_type": "code",
      "source": [
        "import random as r\n",
        "import string\n",
        "\n",
        "file = open(\"Random Strings.txt\", \"w\")\n",
        "for i in range(100):\n",
        "  k = r.randint(10, 15)\n",
        "  randomString = \"\"\n",
        "  for j in range(k):\n",
        "    randomString = randomString + r.choice(string.ascii_letters)\n",
        "  file.write(randomString + \"\\n\")\n",
        "\n",
        "file.close()"
      ],
      "metadata": {
        "id": "5FEwTDJwO-xA"
      },
      "execution_count": 16,
      "outputs": []
    },
    {
      "cell_type": "markdown",
      "source": [
        "## Q10. Write to the file all prime numbers between 600 and 800."
      ],
      "metadata": {
        "id": "aiYE8ZJ0T_jv"
      }
    },
    {
      "cell_type": "code",
      "source": [
        "file = open(\"Prime Numbers.txt\",\"w\")\n",
        "for i in range(600, 800+1):\n",
        "  count = 0\n",
        "  for j in range(2, i//2+1):\n",
        "    if i%j == 0:\n",
        "      count = count + 1\n",
        "      break\n",
        "  if count == 0:\n",
        "    file.write(str(i)+\"\\n\")\n",
        "file.close()"
      ],
      "metadata": {
        "id": "r7yPi7baUD6A"
      },
      "execution_count": 19,
      "outputs": []
    },
    {
      "cell_type": "markdown",
      "source": [
        "### Q11. WAP to calculate the time taken by a program."
      ],
      "metadata": {
        "id": "EZitCR7qVQwR"
      }
    },
    {
      "cell_type": "code",
      "source": [
        "import time as t\n",
        "\n",
        "start = t.time()\n",
        "\n",
        "for i in range(10):\n",
        "  print(i)\n",
        "\n",
        "end = t.time()\n",
        "print(\"Time Taken : \", end-start)"
      ],
      "metadata": {
        "colab": {
          "base_uri": "https://localhost:8080/"
        },
        "id": "vjoKGthwVQfA",
        "outputId": "b5fd076d-55df-4622-efcd-d4c740b457f9"
      },
      "execution_count": 20,
      "outputs": [
        {
          "output_type": "stream",
          "name": "stdout",
          "text": [
            "0\n",
            "1\n",
            "2\n",
            "3\n",
            "4\n",
            "5\n",
            "6\n",
            "7\n",
            "8\n",
            "9\n",
            "Time Taken :  0.0016791820526123047\n"
          ]
        }
      ]
    },
    {
      "cell_type": "markdown",
      "source": [
        "## Q12. WAP to sort following number of elements in a list, calculate time taken and plot the graph.\n",
        "\n",
        "| Number of Elements | Time Taken (s) |\n",
        "|--------------------|----------------|\n",
        "| 5,000              | T1             |\n",
        "| 10,000             | T2             |\n",
        "| 15,000             | T3             |\n",
        "| 20,000             | T4             |\n",
        "| 25,000             | T5             |\n"
      ],
      "metadata": {
        "id": "T4oKeTHBVlgM"
      }
    },
    {
      "cell_type": "code",
      "source": [
        "import random as r\n",
        "import time as t\n",
        "import matplotlib.pyplot as plt\n",
        "\n",
        "List1 = []\n",
        "List2 = []\n",
        "List3 = []\n",
        "List4 = []\n",
        "List5 = []\n",
        "\n",
        "T = []\n",
        "\n",
        "Sizes = [5000, 10000, 15000, 20000, 25000]\n",
        "\n",
        "T.append(t.time())\n",
        "\n",
        "for i in range(Sizes[0]):\n",
        "  List1.append(r.randint(1, 1000))\n",
        "List1.sort()\n",
        "\n",
        "T.append(t.time())\n",
        "\n",
        "for i in range(Sizes[1]):\n",
        "  List2.append(r.randint(1, 1000))\n",
        "List2.sort()\n",
        "\n",
        "T.append(t.time())\n",
        "\n",
        "for i in range(Sizes[2]):\n",
        "  List3.append(r.randint(1, 1000))\n",
        "List3.sort()\n",
        "\n",
        "T.append(t.time())\n",
        "\n",
        "for i in range(Sizes[3]):\n",
        "  List4.append(r.randint(1, 1000))\n",
        "List4.sort()\n",
        "\n",
        "T.append(t.time())\n",
        "\n",
        "for i in range(Sizes[4]):\n",
        "  List5.append(r.randint(1, 1000))\n",
        "List5.sort()\n",
        "\n",
        "T.append(t.time())\n",
        "\n",
        "Times = []\n",
        "for i in range(len(T) - 1):\n",
        "  Times.append(T[i+1] - T[i])\n",
        "  print(Sizes[i], \" --> \", Times[i])\n",
        "\n"
      ],
      "metadata": {
        "colab": {
          "base_uri": "https://localhost:8080/"
        },
        "id": "QmGDYHMuWHGo",
        "outputId": "06766fb0-de33-44aa-dda7-e3d0f1f4b3c1"
      },
      "execution_count": 40,
      "outputs": [
        {
          "output_type": "stream",
          "name": "stdout",
          "text": [
            "5000  -->  0.009421110153198242\n",
            "10000  -->  0.012471675872802734\n",
            "15000  -->  0.01690959930419922\n",
            "20000  -->  0.023857831954956055\n",
            "25000  -->  0.028139352798461914\n"
          ]
        }
      ]
    },
    {
      "cell_type": "code",
      "source": [
        "plt.plot(Sizes, Times)\n",
        "plt.xlabel(\"Number of Elements\")\n",
        "plt.ylabel(\"Time Taken (s)\")\n",
        "plt.show"
      ],
      "metadata": {
        "colab": {
          "base_uri": "https://localhost:8080/",
          "height": 618
        },
        "id": "viQzEKJ12azX",
        "outputId": "80f7d6cc-5188-4f77-d034-a9093300898c"
      },
      "execution_count": 41,
      "outputs": [
        {
          "output_type": "execute_result",
          "data": {
            "text/plain": [
              "<function matplotlib.pyplot.show(close=None, block=None)>"
            ],
            "text/html": [
              "<div style=\"max-width:800px; border: 1px solid var(--colab-border-color);\"><style>\n",
              "      pre.function-repr-contents {\n",
              "        overflow-x: auto;\n",
              "        padding: 8px 12px;\n",
              "        max-height: 500px;\n",
              "      }\n",
              "\n",
              "      pre.function-repr-contents.function-repr-contents-collapsed {\n",
              "        cursor: pointer;\n",
              "        max-height: 100px;\n",
              "      }\n",
              "    </style>\n",
              "    <pre style=\"white-space: initial; background:\n",
              "         var(--colab-secondary-surface-color); padding: 8px 12px;\n",
              "         border-bottom: 1px solid var(--colab-border-color);\"><b>matplotlib.pyplot.show</b><br/>def show(*args, **kwargs)</pre><pre class=\"function-repr-contents function-repr-contents-collapsed\" style=\"\"><a class=\"filepath\" style=\"display:none\" href=\"#\">/usr/local/lib/python3.10/dist-packages/matplotlib/pyplot.py</a>Display all open figures.\n",
              "\n",
              "Parameters\n",
              "----------\n",
              "block : bool, optional\n",
              "    Whether to wait for all figures to be closed before returning.\n",
              "\n",
              "    If `True` block and run the GUI main loop until all figure windows\n",
              "    are closed.\n",
              "\n",
              "    If `False` ensure that all figure windows are displayed and return\n",
              "    immediately.  In this case, you are responsible for ensuring\n",
              "    that the event loop is running to have responsive figures.\n",
              "\n",
              "    Defaults to True in non-interactive mode and to False in interactive\n",
              "    mode (see `.pyplot.isinteractive`).\n",
              "\n",
              "See Also\n",
              "--------\n",
              "ion : Enable interactive mode, which shows / updates the figure after\n",
              "      every plotting command, so that calling ``show()`` is not necessary.\n",
              "ioff : Disable interactive mode.\n",
              "savefig : Save the figure to an image file instead of showing it on screen.\n",
              "\n",
              "Notes\n",
              "-----\n",
              "**Saving figures to file and showing a window at the same time**\n",
              "\n",
              "If you want an image file as well as a user interface window, use\n",
              "`.pyplot.savefig` before `.pyplot.show`. At the end of (a blocking)\n",
              "``show()`` the figure is closed and thus unregistered from pyplot. Calling\n",
              "`.pyplot.savefig` afterwards would save a new and thus empty figure. This\n",
              "limitation of command order does not apply if the show is non-blocking or\n",
              "if you keep a reference to the figure and use `.Figure.savefig`.\n",
              "\n",
              "**Auto-show in jupyter notebooks**\n",
              "\n",
              "The jupyter backends (activated via ``%matplotlib inline``,\n",
              "``%matplotlib notebook``, or ``%matplotlib widget``), call ``show()`` at\n",
              "the end of every cell by default. Thus, you usually don&#x27;t have to call it\n",
              "explicitly there.</pre>\n",
              "      <script>\n",
              "      if (google.colab.kernel.accessAllowed && google.colab.files && google.colab.files.view) {\n",
              "        for (const element of document.querySelectorAll('.filepath')) {\n",
              "          element.style.display = 'block'\n",
              "          element.onclick = (event) => {\n",
              "            event.preventDefault();\n",
              "            event.stopPropagation();\n",
              "            google.colab.files.view(element.textContent, 401);\n",
              "          };\n",
              "        }\n",
              "      }\n",
              "      for (const element of document.querySelectorAll('.function-repr-contents')) {\n",
              "        element.onclick = (event) => {\n",
              "          event.preventDefault();\n",
              "          event.stopPropagation();\n",
              "          element.classList.toggle('function-repr-contents-collapsed');\n",
              "        };\n",
              "      }\n",
              "      </script>\n",
              "      </div>"
            ]
          },
          "metadata": {},
          "execution_count": 41
        },
        {
          "output_type": "display_data",
          "data": {
            "text/plain": [
              "<Figure size 640x480 with 1 Axes>"
            ],
            "image/png": "[encoded data removed]"
          },
          "metadata": {}
        }
      ]
    },
    {
      "cell_type": "markdown",
      "source": [
        "## Q13. WAP to create a dictionary of student marks in five subjects and you have to find the student having maximum and minimum average marks."
      ],
      "metadata": {
        "id": "A_9IgeQg7CdO"
      }
    },
    {
      "cell_type": "code",
      "source": [
        "StudentMarks = {\n",
        "    'Alice': [80, 75, 90, 85, 95],\n",
        "    'Bob': [70, 65, 80, 75, 85],\n",
        "    'Charlie': [60, 55, 70, 65, 75],\n",
        "    'David': [85, 80, 95, 90, 100],\n",
        "    'Eve': [90, 85, 100, 95, 80]\n",
        "}\n",
        "\n",
        "Maximum = 0\n",
        "Minimum = 100\n",
        "for i in StudentMarks:\n",
        "  StudentMarks[i] = sum(StudentMarks[i])/len(StudentMarks[i])\n",
        "  if StudentMarks[i] > Maximum:\n",
        "    Maximum = StudentMarks[i]\n",
        "    MaxName = i\n",
        "  if StudentMarks[i] < Minimum:\n",
        "    Minimum = StudentMarks[i]\n",
        "    MinName = i\n",
        "\n",
        "print(\"Student with Maximum Average Marks : \", MaxName)\n",
        "print(\"Student with Minimum Average Marks : \", MinName)"
      ],
      "metadata": {
        "colab": {
          "base_uri": "https://localhost:8080/"
        },
        "id": "VBftLqsy7JFI",
        "outputId": "48b67a01-7faa-4e8b-d20c-b14b7f3fda63"
      },
      "execution_count": 44,
      "outputs": [
        {
          "output_type": "stream",
          "name": "stdout",
          "text": [
            "Student with Maximum Average Marks :  David\n",
            "Student with Minimum Average Marks :  Charlie\n"
          ]
        }
      ]
    }
  ]
}